{
 "cells": [
  {
   "cell_type": "code",
   "execution_count": 2,
   "id": "db71c5bf-933e-42ee-a2fe-1f68a6a40c74",
   "metadata": {},
   "outputs": [],
   "source": [
    "import seaborn as sns \n",
    "import pandas as pd \n",
    "\n",
    "iris = sns.load_dataset(\"iris\")\n",
    "result = iris.loc[:, ['sepal_length', 'species']]\n",
    "\n",
    "# 미션\n",
    "# 파일명 iris_mission.csv \n",
    "# 저장 위치 : lab01/dataset/iris_mission.csv\n",
    "\n",
    "# result.to_csv(\"상위폴더가기/dataset/iris_result.csv\", index=False)\n",
    "result.to_csv(\"../../lab01/dataset/iris_mission.csv\", index=False)"
   ]
  }
 ],
 "metadata": {
  "kernelspec": {
   "display_name": "Python 3 (ipykernel)",
   "language": "python",
   "name": "python3"
  },
  "language_info": {
   "codemirror_mode": {
    "name": "ipython",
    "version": 3
   },
   "file_extension": ".py",
   "mimetype": "text/x-python",
   "name": "python",
   "nbconvert_exporter": "python",
   "pygments_lexer": "ipython3",
   "version": "3.13.2"
  }
 },
 "nbformat": 4,
 "nbformat_minor": 5
}
